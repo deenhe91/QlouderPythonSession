{
 "cells": [
  {
   "cell_type": "markdown",
   "metadata": {},
   "source": [
    "## Knowledge is POWER: session 1\n",
    "### Python for Data Science\n",
    "\n",
    "#### 2.7 or 3.5?\n",
    "2.7 is without doubt the most common and well established version of Python, and you will encounter problems with some older packages if you use 3.5. _However_, there is a trend in upgrades to write in Python 3.5 so I started with that one. Occasionally I use 2.7 by switching environments but my default is 3.5.\n",
    "\n",
    "#### Package management\n",
    "Python packages are a nightmare. Version control, making sure they are in the right path, and import and compatibility bugs are very common with Python. So be ready! One thing that helps is using a central package manager so you can easily switch environments for different libraries and versions. The common choice is __Anaconda__:\n",
    "\n",
    "https://docs.continuum.io/anaconda/install\n",
    "\n",
    "You have to specify which Python version you want, but remember you can have an alternative version environment, so just pick your default and install away."
   ]
  },
  {
   "cell_type": "markdown",
   "metadata": {},
   "source": [
    "#### pip\n",
    "Once you have anaconda installed, you can use __pip__ (in most cases) to install any packages you might want to use. For data analysis, the most important packages are __pandas__, __numpy__ and __matplotlib__.\n",
    "If you want to make your plots prettier, you can install __seaborn__ and if you want to do other things like image analysis, __openCV__ or web scraping, __beautiful soup__.\n",
    "\n",
    "From command line:\n",
    "`pip install pandas`\n",
    "\n",
    "Once you have pip installed your packages, as the anaconda package manager sits in your path, you can import them anywhere. "
   ]
  },
  {
   "cell_type": "code",
   "execution_count": null,
   "metadata": {
    "collapsed": true
   },
   "outputs": [],
   "source": [
    "import pandas\n",
    "import numpy\n",
    "import matplotlib.pyplot as plt"
   ]
  },
  {
   "cell_type": "markdown",
   "metadata": {},
   "source": [
    "## Variables\n",
    "### Lists\n",
    "A list of values, each one is indexed, starting at `0`. You can remove and add values, change the order of those values, etc."
   ]
  },
  {
   "cell_type": "code",
   "execution_count": null,
   "metadata": {
    "collapsed": false
   },
   "outputs": [],
   "source": [
    "aList = []\n",
    "print(aList)\n",
    "print(type(aList))"
   ]
  },
  {
   "cell_type": "code",
   "execution_count": null,
   "metadata": {
    "collapsed": false
   },
   "outputs": [],
   "source": [
    "aList.append('apple') # adds a string value to your list\n",
    "print(aList)"
   ]
  },
  {
   "cell_type": "code",
   "execution_count": null,
   "metadata": {
    "collapsed": false
   },
   "outputs": [],
   "source": [
    "aList.extend(['orange', 'watermelon', 'kiwi', 'fig']) #if you use append with a list instead of a string, you get a list within a list\n",
    "print(aList)"
   ]
  },
  {
   "cell_type": "code",
   "execution_count": null,
   "metadata": {
    "collapsed": false
   },
   "outputs": [],
   "source": [
    "print(sorted(aList)) # sorts alphabetically once\n",
    "print(aList) # not permanent"
   ]
  },
  {
   "cell_type": "code",
   "execution_count": null,
   "metadata": {
    "collapsed": false,
    "scrolled": true
   },
   "outputs": [],
   "source": [
    "# some simple operations\n",
    "print(aList[2]) # grab value by index\n",
    "print(aList[2:4]) # subset a list\n",
    "print(max(aList)) # max grabs highest integer or furthest letter in alphabet (lowercase before uppercase)\n",
    "print(min(aList)) # vice versa\n",
    "print(len(aList)) # number of values in list"
   ]
  },
  {
   "cell_type": "markdown",
   "metadata": {},
   "source": [
    "#### List comprehensions\n",
    "Little forloops inside lists. Lovely things."
   ]
  },
  {
   "cell_type": "code",
   "execution_count": null,
   "metadata": {
    "collapsed": false
   },
   "outputs": [],
   "source": [
    "bList = [x**2 for x in range(10)] \n",
    "print(bList)"
   ]
  },
  {
   "cell_type": "markdown",
   "metadata": {},
   "source": [
    "### Tuples\n",
    "Similar to lists but the values are immutable. You cannot change them. Useful for temporarily storing pairs of information or sequences like days of the week."
   ]
  },
  {
   "cell_type": "code",
   "execution_count": null,
   "metadata": {
    "collapsed": false
   },
   "outputs": [],
   "source": [
    "aTup = ('Monday','Tuesday','Wednesday')\n",
    "print(aTup)\n",
    "print(type(aTup))\n",
    "print(len(aTup))"
   ]
  },
  {
   "cell_type": "markdown",
   "metadata": {},
   "source": [
    "### Dictionaries\n",
    "Contains key-value pairs. Can have dictionaries within dictionaries. It is not indexed, i.e. you can't call the 5th key in the dictionary. You can add, remove and modify values in a dictionary. (it's basically json) "
   ]
  },
  {
   "cell_type": "code",
   "execution_count": null,
   "metadata": {
    "collapsed": true
   },
   "outputs": [],
   "source": [
    "aDict = {}\n"
   ]
  },
  {
   "cell_type": "markdown",
   "metadata": {},
   "source": [
    "### List Comprehension"
   ]
  },
  {
   "cell_type": "markdown",
   "metadata": {},
   "source": [
    "### Pandas\n",
    "Pandas is the best. It allows you to utilise all the great analysis functionality from R, and works using DataFrames. This means, it organises data in 2 dimensional matrices and you can filter, concatenate, split and join, replace functions, etc. "
   ]
  },
  {
   "cell_type": "code",
   "execution_count": null,
   "metadata": {
    "collapsed": true
   },
   "outputs": [],
   "source": []
  },
  {
   "cell_type": "markdown",
   "metadata": {},
   "source": [
    "### Matplotlib and Seaborn"
   ]
  },
  {
   "cell_type": "code",
   "execution_count": null,
   "metadata": {
    "collapsed": true
   },
   "outputs": [],
   "source": []
  }
 ],
 "metadata": {
  "kernelspec": {
   "display_name": "Python 3",
   "language": "python",
   "name": "python3"
  },
  "language_info": {
   "codemirror_mode": {
    "name": "ipython",
    "version": 3
   },
   "file_extension": ".py",
   "mimetype": "text/x-python",
   "name": "python",
   "nbconvert_exporter": "python",
   "pygments_lexer": "ipython3",
   "version": "3.5.1"
  }
 },
 "nbformat": 4,
 "nbformat_minor": 0
}
