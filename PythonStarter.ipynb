{
 "cells": [
  {
   "cell_type": "markdown",
   "metadata": {},
   "source": [
    "# Knowledge is POWER: session 1\n",
    "## Python for Data Science\n",
    "\n",
    "### 2.7 or 3.5?\n",
    "2.7 is without doubt the most common and well established version of Python, and you will encounter problems with some older packages if you use 3.5. _However_, there is a trend in upgrades to write in Python 3.5 so I started with that one. Occasionally I use 2.7 by switching environments but my default is 3.5.\n",
    "\n",
    "### Package management\n",
    "Python packages are a nightmare. Version control, making sure they are in the right path, and import and compatibility bugs are very common with Python. So be ready! One thing that helps is using a central package manager so you can easily switch environments for different libraries and versions. The common choice is __Anaconda__:\n",
    "\n",
    "https://docs.continuum.io/anaconda/install\n",
    "\n",
    "You have to specify which Python version you want, but remember you can have an alternative version environment, so just pick your default and install away."
   ]
  },
  {
   "cell_type": "markdown",
   "metadata": {},
   "source": [
    "### pip\n",
    "Once you have anaconda installed, you can use __pip__ (in most cases) to install any packages you might want to use. For data analysis, the most important packages are __pandas__, __numpy__ and __matplotlib__.\n",
    "If you want to make your plots prettier, you can install __seaborn__ and if you want to do other things like image analysis, __openCV__ or web scraping, __beautiful soup__.\n",
    "\n",
    "From command line:\n",
    "`pip install pandas`\n",
    "\n",
    "Once you have pip installed your packages, as the anaconda package manager sits in your path, you can import them anywhere. "
   ]
  },
  {
   "cell_type": "code",
   "execution_count": null,
   "metadata": {
    "collapsed": true
   },
   "outputs": [],
   "source": [
    "import pandas\n",
    "import numpy\n",
    "import matplotlib.pyplot as plt"
   ]
  },
  {
   "cell_type": "markdown",
   "metadata": {},
   "source": [
    "\n",
    "# Variables\n",
    "## Lists\n",
    "A list of values, each one is indexed, starting at `0`. You can remove and add values, change the order of those values, etc."
   ]
  },
  {
   "cell_type": "code",
   "execution_count": null,
   "metadata": {
    "collapsed": false
   },
   "outputs": [],
   "source": [
    "aList = []\n",
    "print(aList)\n",
    "print(type(aList))"
   ]
  },
  {
   "cell_type": "code",
   "execution_count": null,
   "metadata": {
    "collapsed": false
   },
   "outputs": [],
   "source": [
    "aList.append('apple') # adds a string value to your list\n",
    "print(aList)"
   ]
  },
  {
   "cell_type": "code",
   "execution_count": null,
   "metadata": {
    "collapsed": false
   },
   "outputs": [],
   "source": [
    "aList.extend(['orange', 'watermelon', 'kiwi', 'fig']) #if you use append with a list instead of a string, you get a list within a list\n",
    "print(aList)"
   ]
  },
  {
   "cell_type": "code",
   "execution_count": null,
   "metadata": {
    "collapsed": false
   },
   "outputs": [],
   "source": [
    "print(sorted(aList)) # sorts alphabetically once\n",
    "print(aList) # not permanent"
   ]
  },
  {
   "cell_type": "code",
   "execution_count": null,
   "metadata": {
    "collapsed": false,
    "scrolled": true
   },
   "outputs": [],
   "source": [
    "# some simple operations\n",
    "print(aList[2]) # grab value by index\n",
    "print(aList[2:4]) # subset a list\n",
    "print(max(aList)) # max grabs highest integer or furthest letter in alphabet (lowercase before uppercase)\n",
    "print(min(aList)) # vice versa\n",
    "print(len(aList)) # number of values in list"
   ]
  },
  {
   "cell_type": "markdown",
   "metadata": {},
   "source": [
    "## List comprehensions\n",
    "Little forloops inside lists. Lovely things."
   ]
  },
  {
   "cell_type": "code",
   "execution_count": null,
   "metadata": {
    "collapsed": false
   },
   "outputs": [],
   "source": [
    "bList = [x**2 for x in range(10)] \n",
    "print(bList)"
   ]
  },
  {
   "cell_type": "markdown",
   "metadata": {},
   "source": [
    "## Tuples\n",
    "Similar to lists but the values are immutable. You cannot change them. Useful for temporarily storing pairs of information or sequences like days of the week."
   ]
  },
  {
   "cell_type": "code",
   "execution_count": null,
   "metadata": {
    "collapsed": false
   },
   "outputs": [],
   "source": [
    "aTup = ('Monday','Tuesday','Wednesday')\n",
    "print(aTup)\n",
    "print(type(aTup))\n",
    "print(len(aTup))"
   ]
  },
  {
   "cell_type": "markdown",
   "metadata": {},
   "source": [
    "## Dictionaries\n",
    "Contains key-value pairs. Can have dictionaries within dictionaries. It is not indexed, i.e. you can't call the 5th key in the dictionary. You can add, remove and modify values in a dictionary. (it's basically json) "
   ]
  },
  {
   "cell_type": "code",
   "execution_count": null,
   "metadata": {
    "collapsed": true
   },
   "outputs": [],
   "source": [
    "aDict = {}\n"
   ]
  },
  {
   "cell_type": "markdown",
   "metadata": {},
   "source": [
    "## Membership and Identity operators\n",
    "\n",
    "membership operators test for membership in a sequence, such as strings, lists, tuples or dictionaries.\n",
    "\n",
    "`in, not in`\n",
    "\n",
    "a variable can have multiple names pointing to it. Is/Is not evaluates whether the variables on each side of the operator point to the same object. Without if statement, will return `True` or `False`.\n",
    "\n",
    "`is, is not`"
   ]
  },
  {
   "cell_type": "code",
   "execution_count": null,
   "metadata": {
    "collapsed": false
   },
   "outputs": [],
   "source": [
    "if 'green' is 'red':\n",
    "    print (\"you're colourblind!\")\n",
    "else:\n",
    "    print (\"you're not colourblind!\")"
   ]
  },
  {
   "cell_type": "code",
   "execution_count": null,
   "metadata": {
    "collapsed": false
   },
   "outputs": [],
   "source": [
    "if 'apple' in aList:\n",
    "    print(\"apple's in the bag\")\n",
    "else:\n",
    "    print(\"you've forgotten the apples!\")"
   ]
  },
  {
   "cell_type": "markdown",
   "metadata": {},
   "source": [
    "# Pandas\n",
    "Pandas is the best. It allows you to utilise all the great analysis functionality from R, and works using DataFrames. This means, it organises data in 2 dimensional matrices and you can filter, concatenate, split and join, replace functions, etc. "
   ]
  },
  {
   "cell_type": "markdown",
   "metadata": {},
   "source": [
    "## Read and write to .csv"
   ]
  },
  {
   "cell_type": "code",
   "execution_count": 108,
   "metadata": {
    "collapsed": false
   },
   "outputs": [],
   "source": [
    "# instantiate a dataframe object\n",
    "df = pd.DataFrame()\n",
    "\n",
    "# read in some data\n",
    "df = pd.read_csv('forestfires.csv')\n",
    "\n",
    "# save a dataframe as a csv\n",
    "df.to_csv('forestfires.csv')"
   ]
  },
  {
   "cell_type": "markdown",
   "metadata": {},
   "source": [
    "## Selecting, Indexing and Setting"
   ]
  },
  {
   "cell_type": "code",
   "execution_count": null,
   "metadata": {
    "collapsed": false,
    "scrolled": true
   },
   "outputs": [],
   "source": [
    "print('shape: {}'.format(df.shape))\n",
    "# will give you the dimensions of the dataframe in format (no. of rows, no. of columns)\n",
    "print('='*60)\n",
    "print(df.columns+'\\n')\n",
    "# gives you column names\n",
    "print('='*60)\n",
    "print(df.head())\n",
    "#  gives you the first 5 rows, or more if specified. i.e. df.head(10) will give you the first 10.\n",
    "\n"
   ]
  },
  {
   "cell_type": "code",
   "execution_count": null,
   "metadata": {
    "collapsed": false
   },
   "outputs": [],
   "source": [
    "print('by column name: \\n')\n",
    "print(df['month'][:5])\n",
    "print('\\nor.... \\n')\n",
    "print(df.month[:5])\n",
    "# will show you the values in the column called 'month'\n",
    "print('\\n\\nby index: \\n')\n",
    "print(df.iloc[:5,:3])\n",
    "# by numeric index. rows 0-5, columns 0-3."
   ]
  },
  {
   "cell_type": "code",
   "execution_count": null,
   "metadata": {
    "collapsed": false,
    "scrolled": true
   },
   "outputs": [],
   "source": [
    "print('by row value: \\n')\n",
    "df[df['month']=='oct'][:5]\n",
    "# show me all rows where the month is October."
   ]
  },
  {
   "cell_type": "markdown",
   "metadata": {},
   "source": [
    "## Adding, replacing, deleting, concatenating...."
   ]
  },
  {
   "cell_type": "code",
   "execution_count": 74,
   "metadata": {
    "collapsed": false
   },
   "outputs": [
    {
     "name": "stdout",
     "output_type": "stream",
     "text": [
      "   X  Y month  day  FFMC   DMC     DC  ISI  temp  RH  wind  rain  area  new  \\\n",
      "0  7  5   mar  fri  86.2  26.2   94.3  5.1   8.2  51   6.7   0.0     0    0   \n",
      "1  7  4   oct  tue  90.6  35.4  669.1  6.7  18.0  33   0.9   0.0     0    0   \n",
      "2  7  4   oct  sat  90.6  43.7  686.9  6.7  14.6  33   1.3   0.0     0    0   \n",
      "3  8  6   mar  fri  91.7  33.3   77.5  9.0   8.3  97   4.0   0.2     0    0   \n",
      "4  8  6   mar  sun  89.3  51.3  102.2  9.6  11.4  99   1.8   0.0     0    0   \n",
      "\n",
      "  datetime  \n",
      "0           \n",
      "1           \n",
      "2           \n",
      "3           \n",
      "4           \n",
      "\n",
      "\n",
      "\n",
      "['mar' 'oct' 'aug' 'sep' 'apr' 'jun' 'jul' 'feb' 'jan' 'dec' 'may' 'nov']\n"
     ]
    }
   ],
   "source": [
    "df['new'] = (0)\n",
    "# easily add new columns\n",
    "print(df.head())\n",
    "print('\\n\\n')\n",
    "print(df.month.unique())\n"
   ]
  },
  {
   "cell_type": "code",
   "execution_count": 77,
   "metadata": {
    "collapsed": false
   },
   "outputs": [
    {
     "data": {
      "text/html": [
       "<div>\n",
       "<table border=\"1\" class=\"dataframe\">\n",
       "  <thead>\n",
       "    <tr style=\"text-align: right;\">\n",
       "      <th></th>\n",
       "      <th>X</th>\n",
       "      <th>Y</th>\n",
       "      <th>month</th>\n",
       "      <th>day</th>\n",
       "      <th>FFMC</th>\n",
       "      <th>DMC</th>\n",
       "      <th>DC</th>\n",
       "      <th>ISI</th>\n",
       "      <th>temp</th>\n",
       "      <th>RH</th>\n",
       "      <th>wind</th>\n",
       "      <th>rain</th>\n",
       "      <th>area</th>\n",
       "      <th>new</th>\n",
       "      <th>datetime</th>\n",
       "    </tr>\n",
       "  </thead>\n",
       "  <tbody>\n",
       "    <tr>\n",
       "      <th>280</th>\n",
       "      <td>4</td>\n",
       "      <td>6</td>\n",
       "      <td>dec</td>\n",
       "      <td>fri</td>\n",
       "      <td>84.7</td>\n",
       "      <td>26.7</td>\n",
       "      <td>352.6</td>\n",
       "      <td>4.1</td>\n",
       "      <td>2.2</td>\n",
       "      <td>59</td>\n",
       "      <td>4.9</td>\n",
       "      <td>0</td>\n",
       "      <td>9.27</td>\n",
       "      <td>0</td>\n",
       "      <td></td>\n",
       "    </tr>\n",
       "    <tr>\n",
       "      <th>282</th>\n",
       "      <td>6</td>\n",
       "      <td>3</td>\n",
       "      <td>feb</td>\n",
       "      <td>sun</td>\n",
       "      <td>84.9</td>\n",
       "      <td>27.5</td>\n",
       "      <td>353.5</td>\n",
       "      <td>3.4</td>\n",
       "      <td>4.2</td>\n",
       "      <td>51</td>\n",
       "      <td>4.0</td>\n",
       "      <td>0</td>\n",
       "      <td>0.00</td>\n",
       "      <td>0</td>\n",
       "      <td></td>\n",
       "    </tr>\n",
       "    <tr>\n",
       "      <th>279</th>\n",
       "      <td>4</td>\n",
       "      <td>4</td>\n",
       "      <td>dec</td>\n",
       "      <td>mon</td>\n",
       "      <td>85.4</td>\n",
       "      <td>25.4</td>\n",
       "      <td>349.7</td>\n",
       "      <td>2.6</td>\n",
       "      <td>4.6</td>\n",
       "      <td>21</td>\n",
       "      <td>8.5</td>\n",
       "      <td>0</td>\n",
       "      <td>9.77</td>\n",
       "      <td>0</td>\n",
       "      <td></td>\n",
       "    </tr>\n",
       "    <tr>\n",
       "      <th>278</th>\n",
       "      <td>4</td>\n",
       "      <td>4</td>\n",
       "      <td>dec</td>\n",
       "      <td>mon</td>\n",
       "      <td>85.4</td>\n",
       "      <td>25.4</td>\n",
       "      <td>349.7</td>\n",
       "      <td>2.6</td>\n",
       "      <td>4.6</td>\n",
       "      <td>21</td>\n",
       "      <td>8.5</td>\n",
       "      <td>0</td>\n",
       "      <td>22.03</td>\n",
       "      <td>0</td>\n",
       "      <td></td>\n",
       "    </tr>\n",
       "    <tr>\n",
       "      <th>277</th>\n",
       "      <td>3</td>\n",
       "      <td>4</td>\n",
       "      <td>dec</td>\n",
       "      <td>mon</td>\n",
       "      <td>85.4</td>\n",
       "      <td>25.4</td>\n",
       "      <td>349.7</td>\n",
       "      <td>2.6</td>\n",
       "      <td>4.6</td>\n",
       "      <td>21</td>\n",
       "      <td>8.5</td>\n",
       "      <td>0</td>\n",
       "      <td>10.73</td>\n",
       "      <td>0</td>\n",
       "      <td></td>\n",
       "    </tr>\n",
       "  </tbody>\n",
       "</table>\n",
       "</div>"
      ],
      "text/plain": [
       "     X  Y month  day  FFMC   DMC     DC  ISI  temp  RH  wind  rain   area  \\\n",
       "280  4  6   dec  fri  84.7  26.7  352.6  4.1   2.2  59   4.9     0   9.27   \n",
       "282  6  3   feb  sun  84.9  27.5  353.5  3.4   4.2  51   4.0     0   0.00   \n",
       "279  4  4   dec  mon  85.4  25.4  349.7  2.6   4.6  21   8.5     0   9.77   \n",
       "278  4  4   dec  mon  85.4  25.4  349.7  2.6   4.6  21   8.5     0  22.03   \n",
       "277  3  4   dec  mon  85.4  25.4  349.7  2.6   4.6  21   8.5     0  10.73   \n",
       "\n",
       "     new datetime  \n",
       "280    0           \n",
       "282    0           \n",
       "279    0           \n",
       "278    0           \n",
       "277    0           "
      ]
     },
     "execution_count": 77,
     "metadata": {},
     "output_type": "execute_result"
    }
   ],
   "source": [
    "sorted_results = df.sort(['temp'])\n",
    "# sort on the values of a column. Ascending or descending.\n",
    "sorted_results.head()"
   ]
  },
  {
   "cell_type": "code",
   "execution_count": null,
   "metadata": {
    "collapsed": true
   },
   "outputs": [],
   "source": [
    "pd.concat(axis=)\n",
    "# join or concatenate tables\n"
   ]
  },
  {
   "cell_type": "markdown",
   "metadata": {},
   "source": [
    "## Group by"
   ]
  },
  {
   "cell_type": "code",
   "execution_count": 79,
   "metadata": {
    "collapsed": false
   },
   "outputs": [],
   "source": [
    "# this is a groupby object. do not be scared. it is your friend.\n",
    "months = df.groupby('month')"
   ]
  },
  {
   "cell_type": "code",
   "execution_count": 80,
   "metadata": {
    "collapsed": false
   },
   "outputs": [
    {
     "data": {
      "text/html": [
       "<div>\n",
       "<table border=\"1\" class=\"dataframe\">\n",
       "  <thead>\n",
       "    <tr style=\"text-align: right;\">\n",
       "      <th></th>\n",
       "      <th>X</th>\n",
       "      <th>Y</th>\n",
       "      <th>day</th>\n",
       "      <th>FFMC</th>\n",
       "      <th>DMC</th>\n",
       "      <th>DC</th>\n",
       "      <th>ISI</th>\n",
       "      <th>temp</th>\n",
       "      <th>RH</th>\n",
       "      <th>wind</th>\n",
       "      <th>rain</th>\n",
       "      <th>area</th>\n",
       "      <th>new</th>\n",
       "      <th>datetime</th>\n",
       "    </tr>\n",
       "    <tr>\n",
       "      <th>month</th>\n",
       "      <th></th>\n",
       "      <th></th>\n",
       "      <th></th>\n",
       "      <th></th>\n",
       "      <th></th>\n",
       "      <th></th>\n",
       "      <th></th>\n",
       "      <th></th>\n",
       "      <th></th>\n",
       "      <th></th>\n",
       "      <th></th>\n",
       "      <th></th>\n",
       "      <th></th>\n",
       "      <th></th>\n",
       "    </tr>\n",
       "  </thead>\n",
       "  <tbody>\n",
       "    <tr>\n",
       "      <th>apr</th>\n",
       "      <td>6</td>\n",
       "      <td>4</td>\n",
       "      <td>sat</td>\n",
       "      <td>86.3</td>\n",
       "      <td>27.4</td>\n",
       "      <td>97.1</td>\n",
       "      <td>5.1</td>\n",
       "      <td>9.3</td>\n",
       "      <td>44</td>\n",
       "      <td>4.5</td>\n",
       "      <td>0</td>\n",
       "      <td>0.00</td>\n",
       "      <td>0</td>\n",
       "      <td></td>\n",
       "    </tr>\n",
       "    <tr>\n",
       "      <th>aug</th>\n",
       "      <td>8</td>\n",
       "      <td>6</td>\n",
       "      <td>sun</td>\n",
       "      <td>92.3</td>\n",
       "      <td>85.3</td>\n",
       "      <td>488.0</td>\n",
       "      <td>14.7</td>\n",
       "      <td>22.2</td>\n",
       "      <td>29</td>\n",
       "      <td>5.4</td>\n",
       "      <td>0</td>\n",
       "      <td>0.00</td>\n",
       "      <td>0</td>\n",
       "      <td></td>\n",
       "    </tr>\n",
       "    <tr>\n",
       "      <th>dec</th>\n",
       "      <td>4</td>\n",
       "      <td>6</td>\n",
       "      <td>sun</td>\n",
       "      <td>84.4</td>\n",
       "      <td>27.2</td>\n",
       "      <td>353.5</td>\n",
       "      <td>6.8</td>\n",
       "      <td>4.8</td>\n",
       "      <td>57</td>\n",
       "      <td>8.5</td>\n",
       "      <td>0</td>\n",
       "      <td>8.98</td>\n",
       "      <td>0</td>\n",
       "      <td></td>\n",
       "    </tr>\n",
       "    <tr>\n",
       "      <th>feb</th>\n",
       "      <td>2</td>\n",
       "      <td>2</td>\n",
       "      <td>mon</td>\n",
       "      <td>84.0</td>\n",
       "      <td>9.3</td>\n",
       "      <td>34.0</td>\n",
       "      <td>2.1</td>\n",
       "      <td>13.9</td>\n",
       "      <td>40</td>\n",
       "      <td>5.4</td>\n",
       "      <td>0</td>\n",
       "      <td>0.00</td>\n",
       "      <td>0</td>\n",
       "      <td></td>\n",
       "    </tr>\n",
       "    <tr>\n",
       "      <th>jan</th>\n",
       "      <td>2</td>\n",
       "      <td>4</td>\n",
       "      <td>sat</td>\n",
       "      <td>82.1</td>\n",
       "      <td>3.7</td>\n",
       "      <td>9.3</td>\n",
       "      <td>2.9</td>\n",
       "      <td>5.3</td>\n",
       "      <td>78</td>\n",
       "      <td>3.1</td>\n",
       "      <td>0</td>\n",
       "      <td>0.00</td>\n",
       "      <td>0</td>\n",
       "      <td></td>\n",
       "    </tr>\n",
       "  </tbody>\n",
       "</table>\n",
       "</div>"
      ],
      "text/plain": [
       "       X  Y  day  FFMC   DMC     DC   ISI  temp  RH  wind  rain  area  new  \\\n",
       "month                                                                        \n",
       "apr    6  4  sat  86.3  27.4   97.1   5.1   9.3  44   4.5     0  0.00    0   \n",
       "aug    8  6  sun  92.3  85.3  488.0  14.7  22.2  29   5.4     0  0.00    0   \n",
       "dec    4  6  sun  84.4  27.2  353.5   6.8   4.8  57   8.5     0  8.98    0   \n",
       "feb    2  2  mon  84.0   9.3   34.0   2.1  13.9  40   5.4     0  0.00    0   \n",
       "jan    2  4  sat  82.1   3.7    9.3   2.9   5.3  78   3.1     0  0.00    0   \n",
       "\n",
       "      datetime  \n",
       "month           \n",
       "apr             \n",
       "aug             \n",
       "dec             \n",
       "feb             \n",
       "jan             "
      ]
     },
     "execution_count": 80,
     "metadata": {},
     "output_type": "execute_result"
    }
   ],
   "source": [
    "# select the first row in each group\n",
    "# (.head() just so the printed dataframe won't fill up your whole screen. It's not needed)\n",
    "months.first().head()"
   ]
  },
  {
   "cell_type": "code",
   "execution_count": 81,
   "metadata": {
    "collapsed": false
   },
   "outputs": [
    {
     "data": {
      "text/html": [
       "<div>\n",
       "<table border=\"1\" class=\"dataframe\">\n",
       "  <thead>\n",
       "    <tr style=\"text-align: right;\">\n",
       "      <th></th>\n",
       "      <th>X</th>\n",
       "      <th>Y</th>\n",
       "      <th>day</th>\n",
       "      <th>FFMC</th>\n",
       "      <th>DMC</th>\n",
       "      <th>DC</th>\n",
       "      <th>ISI</th>\n",
       "      <th>temp</th>\n",
       "      <th>RH</th>\n",
       "      <th>wind</th>\n",
       "      <th>rain</th>\n",
       "      <th>area</th>\n",
       "      <th>new</th>\n",
       "      <th>datetime</th>\n",
       "    </tr>\n",
       "    <tr>\n",
       "      <th>month</th>\n",
       "      <th></th>\n",
       "      <th></th>\n",
       "      <th></th>\n",
       "      <th></th>\n",
       "      <th></th>\n",
       "      <th></th>\n",
       "      <th></th>\n",
       "      <th></th>\n",
       "      <th></th>\n",
       "      <th></th>\n",
       "      <th></th>\n",
       "      <th></th>\n",
       "      <th></th>\n",
       "      <th></th>\n",
       "    </tr>\n",
       "  </thead>\n",
       "  <tbody>\n",
       "    <tr>\n",
       "      <th>apr</th>\n",
       "      <td>5</td>\n",
       "      <td>4</td>\n",
       "      <td>sun</td>\n",
       "      <td>91.0</td>\n",
       "      <td>14.6</td>\n",
       "      <td>25.6</td>\n",
       "      <td>12.3</td>\n",
       "      <td>17.6</td>\n",
       "      <td>27</td>\n",
       "      <td>5.8</td>\n",
       "      <td>0</td>\n",
       "      <td>0.00</td>\n",
       "      <td>0</td>\n",
       "      <td></td>\n",
       "    </tr>\n",
       "    <tr>\n",
       "      <th>aug</th>\n",
       "      <td>1</td>\n",
       "      <td>4</td>\n",
       "      <td>sat</td>\n",
       "      <td>94.4</td>\n",
       "      <td>146.0</td>\n",
       "      <td>614.7</td>\n",
       "      <td>11.3</td>\n",
       "      <td>25.6</td>\n",
       "      <td>42</td>\n",
       "      <td>4.0</td>\n",
       "      <td>0</td>\n",
       "      <td>0.00</td>\n",
       "      <td>0</td>\n",
       "      <td></td>\n",
       "    </tr>\n",
       "    <tr>\n",
       "      <th>dec</th>\n",
       "      <td>6</td>\n",
       "      <td>5</td>\n",
       "      <td>tue</td>\n",
       "      <td>85.4</td>\n",
       "      <td>25.4</td>\n",
       "      <td>349.7</td>\n",
       "      <td>2.6</td>\n",
       "      <td>5.1</td>\n",
       "      <td>24</td>\n",
       "      <td>8.5</td>\n",
       "      <td>0</td>\n",
       "      <td>24.77</td>\n",
       "      <td>0</td>\n",
       "      <td></td>\n",
       "    </tr>\n",
       "    <tr>\n",
       "      <th>feb</th>\n",
       "      <td>2</td>\n",
       "      <td>2</td>\n",
       "      <td>sat</td>\n",
       "      <td>79.5</td>\n",
       "      <td>3.6</td>\n",
       "      <td>15.3</td>\n",
       "      <td>1.8</td>\n",
       "      <td>4.6</td>\n",
       "      <td>59</td>\n",
       "      <td>0.9</td>\n",
       "      <td>0</td>\n",
       "      <td>6.84</td>\n",
       "      <td>0</td>\n",
       "      <td></td>\n",
       "    </tr>\n",
       "    <tr>\n",
       "      <th>jan</th>\n",
       "      <td>4</td>\n",
       "      <td>5</td>\n",
       "      <td>sun</td>\n",
       "      <td>18.7</td>\n",
       "      <td>1.1</td>\n",
       "      <td>171.4</td>\n",
       "      <td>0.0</td>\n",
       "      <td>5.2</td>\n",
       "      <td>100</td>\n",
       "      <td>0.9</td>\n",
       "      <td>0</td>\n",
       "      <td>0.00</td>\n",
       "      <td>0</td>\n",
       "      <td></td>\n",
       "    </tr>\n",
       "  </tbody>\n",
       "</table>\n",
       "</div>"
      ],
      "text/plain": [
       "       X  Y  day  FFMC    DMC     DC   ISI  temp   RH  wind  rain   area  new  \\\n",
       "month                                                                           \n",
       "apr    5  4  sun  91.0   14.6   25.6  12.3  17.6   27   5.8     0   0.00    0   \n",
       "aug    1  4  sat  94.4  146.0  614.7  11.3  25.6   42   4.0     0   0.00    0   \n",
       "dec    6  5  tue  85.4   25.4  349.7   2.6   5.1   24   8.5     0  24.77    0   \n",
       "feb    2  2  sat  79.5    3.6   15.3   1.8   4.6   59   0.9     0   6.84    0   \n",
       "jan    4  5  sun  18.7    1.1  171.4   0.0   5.2  100   0.9     0   0.00    0   \n",
       "\n",
       "      datetime  \n",
       "month           \n",
       "apr             \n",
       "aug             \n",
       "dec             \n",
       "feb             \n",
       "jan             "
      ]
     },
     "execution_count": 81,
     "metadata": {},
     "output_type": "execute_result"
    }
   ],
   "source": [
    "# select the last row of each group\n",
    "months.last().head()"
   ]
  },
  {
   "cell_type": "code",
   "execution_count": 82,
   "metadata": {
    "collapsed": false
   },
   "outputs": [
    {
     "data": {
      "text/html": [
       "<div>\n",
       "<table border=\"1\" class=\"dataframe\">\n",
       "  <thead>\n",
       "    <tr style=\"text-align: right;\">\n",
       "      <th></th>\n",
       "      <th>X</th>\n",
       "      <th>Y</th>\n",
       "      <th>FFMC</th>\n",
       "      <th>DMC</th>\n",
       "      <th>DC</th>\n",
       "      <th>ISI</th>\n",
       "      <th>temp</th>\n",
       "      <th>RH</th>\n",
       "      <th>wind</th>\n",
       "      <th>rain</th>\n",
       "      <th>area</th>\n",
       "      <th>new</th>\n",
       "    </tr>\n",
       "    <tr>\n",
       "      <th>month</th>\n",
       "      <th></th>\n",
       "      <th></th>\n",
       "      <th></th>\n",
       "      <th></th>\n",
       "      <th></th>\n",
       "      <th></th>\n",
       "      <th></th>\n",
       "      <th></th>\n",
       "      <th></th>\n",
       "      <th></th>\n",
       "      <th></th>\n",
       "      <th></th>\n",
       "    </tr>\n",
       "  </thead>\n",
       "  <tbody>\n",
       "    <tr>\n",
       "      <th>apr</th>\n",
       "      <td>5.777778</td>\n",
       "      <td>4.222222</td>\n",
       "      <td>85.788889</td>\n",
       "      <td>15.911111</td>\n",
       "      <td>48.555556</td>\n",
       "      <td>5.377778</td>\n",
       "      <td>12.044444</td>\n",
       "      <td>46.888889</td>\n",
       "      <td>4.666667</td>\n",
       "      <td>0.000000</td>\n",
       "      <td>8.891111</td>\n",
       "      <td>0</td>\n",
       "    </tr>\n",
       "    <tr>\n",
       "      <th>aug</th>\n",
       "      <td>4.483696</td>\n",
       "      <td>4.282609</td>\n",
       "      <td>92.336957</td>\n",
       "      <td>153.732609</td>\n",
       "      <td>641.077717</td>\n",
       "      <td>11.072283</td>\n",
       "      <td>21.631522</td>\n",
       "      <td>45.489130</td>\n",
       "      <td>4.086413</td>\n",
       "      <td>0.058696</td>\n",
       "      <td>12.489076</td>\n",
       "      <td>0</td>\n",
       "    </tr>\n",
       "    <tr>\n",
       "      <th>dec</th>\n",
       "      <td>4.555556</td>\n",
       "      <td>5.000000</td>\n",
       "      <td>84.966667</td>\n",
       "      <td>26.122222</td>\n",
       "      <td>351.244444</td>\n",
       "      <td>3.466667</td>\n",
       "      <td>4.522222</td>\n",
       "      <td>38.444444</td>\n",
       "      <td>7.644444</td>\n",
       "      <td>0.000000</td>\n",
       "      <td>13.330000</td>\n",
       "      <td>0</td>\n",
       "    </tr>\n",
       "    <tr>\n",
       "      <th>feb</th>\n",
       "      <td>5.150000</td>\n",
       "      <td>4.400000</td>\n",
       "      <td>82.905000</td>\n",
       "      <td>9.475000</td>\n",
       "      <td>54.670000</td>\n",
       "      <td>3.350000</td>\n",
       "      <td>9.635000</td>\n",
       "      <td>55.700000</td>\n",
       "      <td>3.755000</td>\n",
       "      <td>0.000000</td>\n",
       "      <td>6.275000</td>\n",
       "      <td>0</td>\n",
       "    </tr>\n",
       "    <tr>\n",
       "      <th>jan</th>\n",
       "      <td>3.000000</td>\n",
       "      <td>4.500000</td>\n",
       "      <td>50.400000</td>\n",
       "      <td>2.400000</td>\n",
       "      <td>90.350000</td>\n",
       "      <td>1.450000</td>\n",
       "      <td>5.250000</td>\n",
       "      <td>89.000000</td>\n",
       "      <td>2.000000</td>\n",
       "      <td>0.000000</td>\n",
       "      <td>0.000000</td>\n",
       "      <td>0</td>\n",
       "    </tr>\n",
       "  </tbody>\n",
       "</table>\n",
       "</div>"
      ],
      "text/plain": [
       "              X         Y       FFMC         DMC          DC        ISI  \\\n",
       "month                                                                     \n",
       "apr    5.777778  4.222222  85.788889   15.911111   48.555556   5.377778   \n",
       "aug    4.483696  4.282609  92.336957  153.732609  641.077717  11.072283   \n",
       "dec    4.555556  5.000000  84.966667   26.122222  351.244444   3.466667   \n",
       "feb    5.150000  4.400000  82.905000    9.475000   54.670000   3.350000   \n",
       "jan    3.000000  4.500000  50.400000    2.400000   90.350000   1.450000   \n",
       "\n",
       "            temp         RH      wind      rain       area  new  \n",
       "month                                                            \n",
       "apr    12.044444  46.888889  4.666667  0.000000   8.891111    0  \n",
       "aug    21.631522  45.489130  4.086413  0.058696  12.489076    0  \n",
       "dec     4.522222  38.444444  7.644444  0.000000  13.330000    0  \n",
       "feb     9.635000  55.700000  3.755000  0.000000   6.275000    0  \n",
       "jan     5.250000  89.000000  2.000000  0.000000   0.000000    0  "
      ]
     },
     "execution_count": 82,
     "metadata": {},
     "output_type": "execute_result"
    }
   ],
   "source": [
    "# take the mean of all rows for each group.\n",
    "# columns which you can't take the mean of will automatically be dropped.\n",
    "months.mean().head()"
   ]
  },
  {
   "cell_type": "code",
   "execution_count": 85,
   "metadata": {
    "collapsed": false
   },
   "outputs": [
    {
     "data": {
      "text/html": [
       "<div>\n",
       "<table border=\"1\" class=\"dataframe\">\n",
       "  <thead>\n",
       "    <tr style=\"text-align: right;\">\n",
       "      <th></th>\n",
       "      <th>DC</th>\n",
       "      <th>DMC</th>\n",
       "      <th>FFMC</th>\n",
       "      <th>ISI</th>\n",
       "      <th>RH</th>\n",
       "      <th>X</th>\n",
       "      <th>Y</th>\n",
       "      <th>area</th>\n",
       "      <th>datetime</th>\n",
       "      <th>day</th>\n",
       "      <th>new</th>\n",
       "      <th>rain</th>\n",
       "      <th>temp</th>\n",
       "      <th>wind</th>\n",
       "    </tr>\n",
       "  </thead>\n",
       "  <tbody>\n",
       "    <tr>\n",
       "      <th>104</th>\n",
       "      <td>9.3</td>\n",
       "      <td>3.7</td>\n",
       "      <td>82.1</td>\n",
       "      <td>2.9</td>\n",
       "      <td>78</td>\n",
       "      <td>2</td>\n",
       "      <td>4</td>\n",
       "      <td>0</td>\n",
       "      <td></td>\n",
       "      <td>sat</td>\n",
       "      <td>0</td>\n",
       "      <td>0</td>\n",
       "      <td>5.3</td>\n",
       "      <td>3.1</td>\n",
       "    </tr>\n",
       "    <tr>\n",
       "      <th>379</th>\n",
       "      <td>171.4</td>\n",
       "      <td>1.1</td>\n",
       "      <td>18.7</td>\n",
       "      <td>0.0</td>\n",
       "      <td>100</td>\n",
       "      <td>4</td>\n",
       "      <td>5</td>\n",
       "      <td>0</td>\n",
       "      <td></td>\n",
       "      <td>sun</td>\n",
       "      <td>0</td>\n",
       "      <td>0</td>\n",
       "      <td>5.2</td>\n",
       "      <td>0.9</td>\n",
       "    </tr>\n",
       "  </tbody>\n",
       "</table>\n",
       "</div>"
      ],
      "text/plain": [
       "        DC  DMC  FFMC  ISI   RH  X  Y  area datetime  day  new  rain  temp  \\\n",
       "104    9.3  3.7  82.1  2.9   78  2  4     0           sat    0     0   5.3   \n",
       "379  171.4  1.1  18.7  0.0  100  4  5     0           sun    0     0   5.2   \n",
       "\n",
       "     wind  \n",
       "104   3.1  \n",
       "379   0.9  "
      ]
     },
     "execution_count": 85,
     "metadata": {},
     "output_type": "execute_result"
    }
   ],
   "source": [
    "# Get a group by name:\n",
    "months.get_group('jan').head()"
   ]
  },
  {
   "cell_type": "code",
   "execution_count": 86,
   "metadata": {
    "collapsed": false
   },
   "outputs": [
    {
     "data": {
      "text/plain": [
       "month\n",
       "apr      9\n",
       "aug    184\n",
       "dec      9\n",
       "feb     20\n",
       "jan      2\n",
       "jul     32\n",
       "jun     17\n",
       "mar     54\n",
       "may      2\n",
       "nov      1\n",
       "dtype: int64"
      ]
     },
     "execution_count": 86,
     "metadata": {},
     "output_type": "execute_result"
    }
   ],
   "source": [
    "# calling size() on a groupby object will return the number of rows each group contains.\n",
    "# here, how many roles each actor has\n",
    "months.size().head(10)"
   ]
  },
  {
   "cell_type": "code",
   "execution_count": 88,
   "metadata": {
    "collapsed": false
   },
   "outputs": [
    {
     "data": {
      "text/html": [
       "<div>\n",
       "<table border=\"1\" class=\"dataframe\">\n",
       "  <thead>\n",
       "    <tr>\n",
       "      <th></th>\n",
       "      <th colspan=\"5\" halign=\"left\">rain</th>\n",
       "      <th colspan=\"5\" halign=\"left\">temp</th>\n",
       "    </tr>\n",
       "    <tr>\n",
       "      <th></th>\n",
       "      <th>mean</th>\n",
       "      <th>count</th>\n",
       "      <th>std</th>\n",
       "      <th>min</th>\n",
       "      <th>max</th>\n",
       "      <th>mean</th>\n",
       "      <th>count</th>\n",
       "      <th>std</th>\n",
       "      <th>min</th>\n",
       "      <th>max</th>\n",
       "    </tr>\n",
       "    <tr>\n",
       "      <th>month</th>\n",
       "      <th></th>\n",
       "      <th></th>\n",
       "      <th></th>\n",
       "      <th></th>\n",
       "      <th></th>\n",
       "      <th></th>\n",
       "      <th></th>\n",
       "      <th></th>\n",
       "      <th></th>\n",
       "      <th></th>\n",
       "    </tr>\n",
       "  </thead>\n",
       "  <tbody>\n",
       "    <tr>\n",
       "      <th>apr</th>\n",
       "      <td>0.000000</td>\n",
       "      <td>9</td>\n",
       "      <td>0.000000</td>\n",
       "      <td>0</td>\n",
       "      <td>0.0</td>\n",
       "      <td>12.044444</td>\n",
       "      <td>9</td>\n",
       "      <td>4.386089</td>\n",
       "      <td>5.8</td>\n",
       "      <td>17.6</td>\n",
       "    </tr>\n",
       "    <tr>\n",
       "      <th>aug</th>\n",
       "      <td>0.058696</td>\n",
       "      <td>184</td>\n",
       "      <td>0.494373</td>\n",
       "      <td>0</td>\n",
       "      <td>6.4</td>\n",
       "      <td>21.631522</td>\n",
       "      <td>184</td>\n",
       "      <td>4.807256</td>\n",
       "      <td>5.1</td>\n",
       "      <td>33.3</td>\n",
       "    </tr>\n",
       "    <tr>\n",
       "      <th>dec</th>\n",
       "      <td>0.000000</td>\n",
       "      <td>9</td>\n",
       "      <td>0.000000</td>\n",
       "      <td>0</td>\n",
       "      <td>0.0</td>\n",
       "      <td>4.522222</td>\n",
       "      <td>9</td>\n",
       "      <td>0.901080</td>\n",
       "      <td>2.2</td>\n",
       "      <td>5.1</td>\n",
       "    </tr>\n",
       "    <tr>\n",
       "      <th>feb</th>\n",
       "      <td>0.000000</td>\n",
       "      <td>20</td>\n",
       "      <td>0.000000</td>\n",
       "      <td>0</td>\n",
       "      <td>0.0</td>\n",
       "      <td>9.635000</td>\n",
       "      <td>20</td>\n",
       "      <td>3.972574</td>\n",
       "      <td>4.2</td>\n",
       "      <td>15.7</td>\n",
       "    </tr>\n",
       "    <tr>\n",
       "      <th>jan</th>\n",
       "      <td>0.000000</td>\n",
       "      <td>2</td>\n",
       "      <td>0.000000</td>\n",
       "      <td>0</td>\n",
       "      <td>0.0</td>\n",
       "      <td>5.250000</td>\n",
       "      <td>2</td>\n",
       "      <td>0.070711</td>\n",
       "      <td>5.2</td>\n",
       "      <td>5.3</td>\n",
       "    </tr>\n",
       "    <tr>\n",
       "      <th>jul</th>\n",
       "      <td>0.006250</td>\n",
       "      <td>32</td>\n",
       "      <td>0.035355</td>\n",
       "      <td>0</td>\n",
       "      <td>0.2</td>\n",
       "      <td>22.109375</td>\n",
       "      <td>32</td>\n",
       "      <td>4.801301</td>\n",
       "      <td>12.6</td>\n",
       "      <td>30.2</td>\n",
       "    </tr>\n",
       "    <tr>\n",
       "      <th>jun</th>\n",
       "      <td>0.000000</td>\n",
       "      <td>17</td>\n",
       "      <td>0.000000</td>\n",
       "      <td>0</td>\n",
       "      <td>0.0</td>\n",
       "      <td>20.494118</td>\n",
       "      <td>17</td>\n",
       "      <td>4.909617</td>\n",
       "      <td>10.6</td>\n",
       "      <td>28.0</td>\n",
       "    </tr>\n",
       "    <tr>\n",
       "      <th>mar</th>\n",
       "      <td>0.003704</td>\n",
       "      <td>54</td>\n",
       "      <td>0.027217</td>\n",
       "      <td>0</td>\n",
       "      <td>0.2</td>\n",
       "      <td>13.083333</td>\n",
       "      <td>54</td>\n",
       "      <td>3.186395</td>\n",
       "      <td>5.3</td>\n",
       "      <td>18.8</td>\n",
       "    </tr>\n",
       "    <tr>\n",
       "      <th>may</th>\n",
       "      <td>0.000000</td>\n",
       "      <td>2</td>\n",
       "      <td>0.000000</td>\n",
       "      <td>0</td>\n",
       "      <td>0.0</td>\n",
       "      <td>14.650000</td>\n",
       "      <td>2</td>\n",
       "      <td>4.737615</td>\n",
       "      <td>11.3</td>\n",
       "      <td>18.0</td>\n",
       "    </tr>\n",
       "    <tr>\n",
       "      <th>nov</th>\n",
       "      <td>0.000000</td>\n",
       "      <td>1</td>\n",
       "      <td>NaN</td>\n",
       "      <td>0</td>\n",
       "      <td>0.0</td>\n",
       "      <td>11.800000</td>\n",
       "      <td>1</td>\n",
       "      <td>NaN</td>\n",
       "      <td>11.8</td>\n",
       "      <td>11.8</td>\n",
       "    </tr>\n",
       "    <tr>\n",
       "      <th>oct</th>\n",
       "      <td>0.000000</td>\n",
       "      <td>15</td>\n",
       "      <td>0.000000</td>\n",
       "      <td>0</td>\n",
       "      <td>0.0</td>\n",
       "      <td>17.093333</td>\n",
       "      <td>15</td>\n",
       "      <td>2.756412</td>\n",
       "      <td>11.3</td>\n",
       "      <td>21.7</td>\n",
       "    </tr>\n",
       "    <tr>\n",
       "      <th>sep</th>\n",
       "      <td>0.000000</td>\n",
       "      <td>172</td>\n",
       "      <td>0.000000</td>\n",
       "      <td>0</td>\n",
       "      <td>0.0</td>\n",
       "      <td>19.612209</td>\n",
       "      <td>172</td>\n",
       "      <td>4.027017</td>\n",
       "      <td>9.8</td>\n",
       "      <td>30.2</td>\n",
       "    </tr>\n",
       "  </tbody>\n",
       "</table>\n",
       "</div>"
      ],
      "text/plain": [
       "           rain                                temp                        \\\n",
       "           mean count       std min  max       mean count       std   min   \n",
       "month                                                                       \n",
       "apr    0.000000     9  0.000000   0  0.0  12.044444     9  4.386089   5.8   \n",
       "aug    0.058696   184  0.494373   0  6.4  21.631522   184  4.807256   5.1   \n",
       "dec    0.000000     9  0.000000   0  0.0   4.522222     9  0.901080   2.2   \n",
       "feb    0.000000    20  0.000000   0  0.0   9.635000    20  3.972574   4.2   \n",
       "jan    0.000000     2  0.000000   0  0.0   5.250000     2  0.070711   5.2   \n",
       "jul    0.006250    32  0.035355   0  0.2  22.109375    32  4.801301  12.6   \n",
       "jun    0.000000    17  0.000000   0  0.0  20.494118    17  4.909617  10.6   \n",
       "mar    0.003704    54  0.027217   0  0.2  13.083333    54  3.186395   5.3   \n",
       "may    0.000000     2  0.000000   0  0.0  14.650000     2  4.737615  11.3   \n",
       "nov    0.000000     1       NaN   0  0.0  11.800000     1       NaN  11.8   \n",
       "oct    0.000000    15  0.000000   0  0.0  17.093333    15  2.756412  11.3   \n",
       "sep    0.000000   172  0.000000   0  0.0  19.612209   172  4.027017   9.8   \n",
       "\n",
       "             \n",
       "        max  \n",
       "month        \n",
       "apr    17.6  \n",
       "aug    33.3  \n",
       "dec     5.1  \n",
       "feb    15.7  \n",
       "jan     5.3  \n",
       "jul    30.2  \n",
       "jun    28.0  \n",
       "mar    18.8  \n",
       "may    18.0  \n",
       "nov    11.8  \n",
       "oct    21.7  \n",
       "sep    30.2  "
      ]
     },
     "execution_count": 88,
     "metadata": {},
     "output_type": "execute_result"
    }
   ],
   "source": [
    "# agg() can take a list of functions. \n",
    "# It makes a new column and applies them to each group in a groupby\n",
    "months['rain','temp'].agg(['mean','count','std','min','max'])"
   ]
  },
  {
   "cell_type": "code",
   "execution_count": 109,
   "metadata": {
    "collapsed": false
   },
   "outputs": [],
   "source": [
    "months = ['January', 'February', 'March', 'April', 'May', 'June', 'July', 'August', 'September', 'October', 'November', 'December']\n",
    "\n",
    "for i in range(len(months)):\n",
    "    df.replace(sorted(df.month.unique())[i], sorted(months)[i], inplace=True)"
   ]
  },
  {
   "cell_type": "markdown",
   "metadata": {},
   "source": [
    "### Matplotlib and Seaborn"
   ]
  },
  {
   "cell_type": "code",
   "execution_count": null,
   "metadata": {
    "collapsed": false
   },
   "outputs": [],
   "source": [
    "import seaborn as sns\n",
    "# seaborn is a nice analysis, plotting and visualisation library that is integrated with matplotlib, pandas and numpy"
   ]
  },
  {
   "cell_type": "code",
   "execution_count": 115,
   "metadata": {
    "collapsed": false
   },
   "outputs": [
    {
     "data": {
      "text/plain": [
       "[<matplotlib.lines.Line2D at 0x119b8c240>]"
      ]
     },
     "execution_count": 115,
     "metadata": {},
     "output_type": "execute_result"
    },
    {
     "data": {
      "image/png": "[encoded data removed]",
      "text/plain": [
       "<matplotlib.figure.Figure at 0x1182a49e8>"
      ]
     },
     "metadata": {},
     "output_type": "display_data"
    }
   ],
   "source": [
    "%matplotlib inline\n",
    "# jupyter will show you your plots inline\n",
    "plt\n",
    "plt.plot(df.temp)"
   ]
  },
  {
   "cell_type": "markdown",
   "metadata": {},
   "source": [
    "## Looking at distributions"
   ]
  },
  {
   "cell_type": "code",
   "execution_count": null,
   "metadata": {
    "collapsed": false
   },
   "outputs": [],
   "source": [
    "\n",
    "plt.hist(df.DC)"
   ]
  },
  {
   "cell_type": "code",
   "execution_count": null,
   "metadata": {
    "collapsed": false
   },
   "outputs": [],
   "source": [
    "df.columns"
   ]
  },
  {
   "cell_type": "code",
   "execution_count": null,
   "metadata": {
    "collapsed": false
   },
   "outputs": [],
   "source": [
    "sns.regplot(x=\"temp\", y=\"rain\", data=df);"
   ]
  },
  {
   "cell_type": "code",
   "execution_count": null,
   "metadata": {
    "collapsed": true
   },
   "outputs": [],
   "source": []
  }
 ],
 "metadata": {
  "kernelspec": {
   "display_name": "Python 3",
   "language": "python",
   "name": "python3"
  },
  "language_info": {
   "codemirror_mode": {
    "name": "ipython",
    "version": 3
   },
   "file_extension": ".py",
   "mimetype": "text/x-python",
   "name": "python",
   "nbconvert_exporter": "python",
   "pygments_lexer": "ipython3",
   "version": "3.5.1"
  }
 },
 "nbformat": 4,
 "nbformat_minor": 0
}
