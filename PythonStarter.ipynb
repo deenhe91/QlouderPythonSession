{
 "cells": [
  {
   "cell_type": "markdown",
   "metadata": {},
   "source": [
    "# Knowledge is POWER: session 1\n",
    "## Python for Data Science\n",
    "\n",
    "### 2.7 or 3.5?\n",
    "2.7 is without doubt the most common and well established version of Python, and you will encounter problems with some older packages if you use 3.5. _However_, there is a trend in upgrades to write in Python 3.5 so I started with that one. Occasionally I use 2.7 by switching environments but my default is 3.5.\n",
    "\n",
    "### Package management\n",
    "Python packages are a nightmare. Version control, making sure they are in the right path, and import and compatibility bugs are very common with Python. So be ready! One thing that helps is using a central package manager so you can easily switch environments for different libraries and versions. The common choice is __Anaconda__:\n",
    "\n",
    "https://docs.continuum.io/anaconda/install\n",
    "\n",
    "You have to specify which Python version you want, but remember you can have an alternative version environment, so just pick your default and install away."
   ]
  },
  {
   "cell_type": "markdown",
   "metadata": {},
   "source": [
    "### pip\n",
    "Once you have anaconda installed, you can use __pip__ (in most cases) to install any packages you might want to use. For data analysis, the most important packages are __pandas__, __numpy__ and __matplotlib__.\n",
    "If you want to make your plots prettier, you can install __seaborn__ and if you want to do other things like image analysis, __openCV__ or web scraping, __beautiful soup__.\n",
    "\n",
    "From command line:\n",
    "`pip install pandas`\n",
    "\n",
    "Once you have pip installed your packages, as the anaconda package manager sits in your path, you can import them anywhere. "
   ]
  },
  {
   "cell_type": "code",
   "execution_count": 1,
   "metadata": {
    "collapsed": true
   },
   "outputs": [],
   "source": [
    "import pandas\n",
    "import numpy\n",
    "import matplotlib.pyplot as plt"
   ]
  },
  {
   "cell_type": "markdown",
   "metadata": {},
   "source": [
    "\n",
    "# Variables\n",
    "## Lists\n",
    "A list of values, each one is indexed, starting at `0`. You can remove and add values, change the order of those values, etc."
   ]
  },
  {
   "cell_type": "code",
   "execution_count": null,
   "metadata": {
    "collapsed": false
   },
   "outputs": [],
   "source": [
    "aList = []\n",
    "print(aList)\n",
    "print(type(aList))"
   ]
  },
  {
   "cell_type": "code",
   "execution_count": null,
   "metadata": {
    "collapsed": false
   },
   "outputs": [],
   "source": [
    "aList.append('apple') # adds a string value to your list\n",
    "print(aList)"
   ]
  },
  {
   "cell_type": "code",
   "execution_count": null,
   "metadata": {
    "collapsed": false
   },
   "outputs": [],
   "source": [
    "aList.extend(['orange', 'watermelon', 'kiwi', 'fig']) #if you use append with a list instead of a string, you get a list within a list\n",
    "print(aList)"
   ]
  },
  {
   "cell_type": "code",
   "execution_count": null,
   "metadata": {
    "collapsed": false
   },
   "outputs": [],
   "source": [
    "print(sorted(aList)) # sorts alphabetically once\n",
    "print(aList) # not permanent"
   ]
  },
  {
   "cell_type": "code",
   "execution_count": null,
   "metadata": {
    "collapsed": false,
    "scrolled": true
   },
   "outputs": [],
   "source": [
    "# some simple operations\n",
    "print(aList[2]) # grab value by index\n",
    "print(aList[2:4]) # subset a list\n",
    "print(max(aList)) # max grabs highest integer or furthest letter in alphabet (lowercase before uppercase)\n",
    "print(min(aList)) # vice versa\n",
    "print(len(aList)) # number of values in list"
   ]
  },
  {
   "cell_type": "markdown",
   "metadata": {},
   "source": [
    "## List comprehensions\n",
    "Little forloops inside lists. Lovely things."
   ]
  },
  {
   "cell_type": "code",
   "execution_count": null,
   "metadata": {
    "collapsed": false
   },
   "outputs": [],
   "source": [
    "bList = [x**2 for x in range(10)] \n",
    "print(bList)"
   ]
  },
  {
   "cell_type": "markdown",
   "metadata": {},
   "source": [
    "## Tuples\n",
    "Similar to lists but the values are immutable. You cannot change them. Useful for temporarily storing pairs of information or sequences like days of the week."
   ]
  },
  {
   "cell_type": "code",
   "execution_count": null,
   "metadata": {
    "collapsed": false
   },
   "outputs": [],
   "source": [
    "aTup = ('Monday','Tuesday','Wednesday')\n",
    "print(aTup)\n",
    "print(type(aTup))\n",
    "print(len(aTup))"
   ]
  },
  {
   "cell_type": "markdown",
   "metadata": {},
   "source": [
    "## Dictionaries\n",
    "Contains key-value pairs. Can have dictionaries within dictionaries. It is not indexed, i.e. you can't call the 5th key in the dictionary. You can add, remove and modify values in a dictionary. (it's basically json) "
   ]
  },
  {
   "cell_type": "code",
   "execution_count": null,
   "metadata": {
    "collapsed": true
   },
   "outputs": [],
   "source": [
    "aDict = {}\n"
   ]
  },
  {
   "cell_type": "markdown",
   "metadata": {},
   "source": [
    "## Membership and Identity operators\n",
    "\n",
    "membership operators test for membership in a sequence, such as strings, lists, tuples or dictionaries.\n",
    "\n",
    "`in, not in`\n",
    "\n",
    "a variable can have multiple names pointing to it. Is/Is not evaluates whether the variables on each side of the operator point to the same object. Without if statement, will return `True` or `False`.\n",
    "\n",
    "`is, is not`"
   ]
  },
  {
   "cell_type": "code",
   "execution_count": 53,
   "metadata": {
    "collapsed": false
   },
   "outputs": [
    {
     "name": "stdout",
     "output_type": "stream",
     "text": [
      "you're not colourblind!\n"
     ]
    }
   ],
   "source": [
    "if 'green' is 'red':\n",
    "    print (\"you're colourblind!\")\n",
    "else:\n",
    "    print (\"you're not colourblind!\")"
   ]
  },
  {
   "cell_type": "code",
   "execution_count": 55,
   "metadata": {
    "collapsed": false
   },
   "outputs": [
    {
     "name": "stdout",
     "output_type": "stream",
     "text": [
      "apple's in the bag\n"
     ]
    }
   ],
   "source": [
    "if 'apple' in aList:\n",
    "    print(\"apple's in the bag\")\n",
    "else:\n",
    "    print(\"you've forgotten the apples!\")"
   ]
  },
  {
   "cell_type": "markdown",
   "metadata": {},
   "source": [
    "# Pandas\n",
    "Pandas is the best. It allows you to utilise all the great analysis functionality from R, and works using DataFrames. This means, it organises data in 2 dimensional matrices and you can filter, concatenate, split and join, replace functions, etc. "
   ]
  },
  {
   "cell_type": "markdown",
   "metadata": {},
   "source": [
    "## Read and write to .csv"
   ]
  },
  {
   "cell_type": "code",
   "execution_count": 3,
   "metadata": {
    "collapsed": false
   },
   "outputs": [],
   "source": [
    "# instantiate a dataframe object\n",
    "df = pd.DataFrame()\n",
    "\n",
    "# read in some data\n",
    "df = pd.read_csv('forestfires.csv')\n",
    "\n",
    "# save a dataframe as a csv\n",
    "df.to_csv('forestfires.csv')"
   ]
  },
  {
   "cell_type": "markdown",
   "metadata": {},
   "source": [
    "## Selecting, Indexing and Setting"
   ]
  },
  {
   "cell_type": "code",
   "execution_count": 15,
   "metadata": {
    "collapsed": false,
    "scrolled": true
   },
   "outputs": [
    {
     "name": "stdout",
     "output_type": "stream",
     "text": [
      "shape: (517, 13)\n",
      "============================================================\n",
      "Index(['columns: X\\n', 'columns: Y\\n', 'columns: month\\n', 'columns: day\\n',\n",
      "       'columns: FFMC\\n', 'columns: DMC\\n', 'columns: DC\\n', 'columns: ISI\\n',\n",
      "       'columns: temp\\n', 'columns: RH\\n', 'columns: wind\\n',\n",
      "       'columns: rain\\n', 'columns: area\\n'],\n",
      "      dtype='object')\n",
      "============================================================\n",
      "   X  Y month  day  FFMC   DMC     DC  ISI  temp  RH  wind  rain  area\n",
      "0  7  5   mar  fri  86.2  26.2   94.3  5.1   8.2  51   6.7   0.0     0\n",
      "1  7  4   oct  tue  90.6  35.4  669.1  6.7  18.0  33   0.9   0.0     0\n",
      "2  7  4   oct  sat  90.6  43.7  686.9  6.7  14.6  33   1.3   0.0     0\n",
      "3  8  6   mar  fri  91.7  33.3   77.5  9.0   8.3  97   4.0   0.2     0\n",
      "4  8  6   mar  sun  89.3  51.3  102.2  9.6  11.4  99   1.8   0.0     0\n"
     ]
    }
   ],
   "source": [
    "print('shape: {}'.format(df.shape))\n",
    "# will give you the dimensions of the dataframe in format (no. of rows, no. of columns)\n",
    "print('='*60)\n",
    "print(df.columns+'\\n')\n",
    "# gives you column names\n",
    "print('='*60)\n",
    "print(df.head())\n",
    "#  gives you the first 5 rows, or more if specified. i.e. df.head(10) will give you the first 10.\n",
    "\n"
   ]
  },
  {
   "cell_type": "code",
   "execution_count": 60,
   "metadata": {
    "collapsed": false
   },
   "outputs": [
    {
     "name": "stdout",
     "output_type": "stream",
     "text": [
      "by column name: \n",
      "\n",
      "0    mar\n",
      "1    oct\n",
      "2    oct\n",
      "3    mar\n",
      "4    mar\n",
      "Name: month, dtype: object\n",
      "or.... \n",
      "\n",
      "0    mar\n",
      "1    oct\n",
      "2    oct\n",
      "3    mar\n",
      "4    mar\n",
      "Name: month, dtype: object\n",
      "\n",
      "\n",
      "by index: \n",
      "\n",
      "   X  Y month\n",
      "0  7  5   mar\n",
      "1  7  4   oct\n",
      "2  7  4   oct\n",
      "3  8  6   mar\n",
      "4  8  6   mar\n"
     ]
    }
   ],
   "source": [
    "print('by column name: \\n')\n",
    "print(df['month'][:5])\n",
    "print('\\nor.... \\n')\n",
    "print(df.month[:5])\n",
    "# will show you the values in the column called 'month'\n",
    "print('\\n\\nby index: \\n')\n",
    "print(df.iloc[:5,:3])\n",
    "# by numeric index. rows 0-5, columns 0-3."
   ]
  },
  {
   "cell_type": "code",
   "execution_count": 31,
   "metadata": {
    "collapsed": false,
    "scrolled": true
   },
   "outputs": [
    {
     "name": "stdout",
     "output_type": "stream",
     "text": [
      "by row value: \n",
      "\n"
     ]
    },
    {
     "data": {
      "text/html": [
       "<div>\n",
       "<table border=\"1\" class=\"dataframe\">\n",
       "  <thead>\n",
       "    <tr style=\"text-align: right;\">\n",
       "      <th></th>\n",
       "      <th>X</th>\n",
       "      <th>Y</th>\n",
       "      <th>month</th>\n",
       "      <th>day</th>\n",
       "      <th>FFMC</th>\n",
       "      <th>DMC</th>\n",
       "      <th>DC</th>\n",
       "      <th>ISI</th>\n",
       "      <th>temp</th>\n",
       "      <th>RH</th>\n",
       "      <th>wind</th>\n",
       "      <th>rain</th>\n",
       "      <th>area</th>\n",
       "    </tr>\n",
       "  </thead>\n",
       "  <tbody>\n",
       "    <tr>\n",
       "      <th>1</th>\n",
       "      <td>7</td>\n",
       "      <td>4</td>\n",
       "      <td>oct</td>\n",
       "      <td>tue</td>\n",
       "      <td>90.6</td>\n",
       "      <td>35.4</td>\n",
       "      <td>669.1</td>\n",
       "      <td>6.7</td>\n",
       "      <td>18.0</td>\n",
       "      <td>33</td>\n",
       "      <td>0.9</td>\n",
       "      <td>0</td>\n",
       "      <td>0</td>\n",
       "    </tr>\n",
       "    <tr>\n",
       "      <th>2</th>\n",
       "      <td>7</td>\n",
       "      <td>4</td>\n",
       "      <td>oct</td>\n",
       "      <td>sat</td>\n",
       "      <td>90.6</td>\n",
       "      <td>43.7</td>\n",
       "      <td>686.9</td>\n",
       "      <td>6.7</td>\n",
       "      <td>14.6</td>\n",
       "      <td>33</td>\n",
       "      <td>1.3</td>\n",
       "      <td>0</td>\n",
       "      <td>0</td>\n",
       "    </tr>\n",
       "    <tr>\n",
       "      <th>17</th>\n",
       "      <td>8</td>\n",
       "      <td>5</td>\n",
       "      <td>oct</td>\n",
       "      <td>mon</td>\n",
       "      <td>84.9</td>\n",
       "      <td>32.8</td>\n",
       "      <td>664.2</td>\n",
       "      <td>3.0</td>\n",
       "      <td>16.7</td>\n",
       "      <td>47</td>\n",
       "      <td>4.9</td>\n",
       "      <td>0</td>\n",
       "      <td>0</td>\n",
       "    </tr>\n",
       "    <tr>\n",
       "      <th>36</th>\n",
       "      <td>6</td>\n",
       "      <td>3</td>\n",
       "      <td>oct</td>\n",
       "      <td>tue</td>\n",
       "      <td>90.6</td>\n",
       "      <td>35.4</td>\n",
       "      <td>669.1</td>\n",
       "      <td>6.7</td>\n",
       "      <td>21.7</td>\n",
       "      <td>24</td>\n",
       "      <td>4.5</td>\n",
       "      <td>0</td>\n",
       "      <td>0</td>\n",
       "    </tr>\n",
       "    <tr>\n",
       "      <th>37</th>\n",
       "      <td>7</td>\n",
       "      <td>4</td>\n",
       "      <td>oct</td>\n",
       "      <td>fri</td>\n",
       "      <td>90.0</td>\n",
       "      <td>41.5</td>\n",
       "      <td>682.6</td>\n",
       "      <td>8.7</td>\n",
       "      <td>11.3</td>\n",
       "      <td>60</td>\n",
       "      <td>5.4</td>\n",
       "      <td>0</td>\n",
       "      <td>0</td>\n",
       "    </tr>\n",
       "  </tbody>\n",
       "</table>\n",
       "</div>"
      ],
      "text/plain": [
       "    X  Y month  day  FFMC   DMC     DC  ISI  temp  RH  wind  rain  area\n",
       "1   7  4   oct  tue  90.6  35.4  669.1  6.7  18.0  33   0.9     0     0\n",
       "2   7  4   oct  sat  90.6  43.7  686.9  6.7  14.6  33   1.3     0     0\n",
       "17  8  5   oct  mon  84.9  32.8  664.2  3.0  16.7  47   4.9     0     0\n",
       "36  6  3   oct  tue  90.6  35.4  669.1  6.7  21.7  24   4.5     0     0\n",
       "37  7  4   oct  fri  90.0  41.5  682.6  8.7  11.3  60   5.4     0     0"
      ]
     },
     "execution_count": 31,
     "metadata": {},
     "output_type": "execute_result"
    }
   ],
   "source": [
    "print('by row value: \\n')\n",
    "df[df['month']=='oct'][:5]\n",
    "# show me all rows where the month is October."
   ]
  },
  {
   "cell_type": "markdown",
   "metadata": {},
   "source": [
    "## Adding, replacing, deleting, concatenating...."
   ]
  },
  {
   "cell_type": "code",
   "execution_count": 38,
   "metadata": {
    "collapsed": true
   },
   "outputs": [
    {
     "name": "stdout",
     "output_type": "stream",
     "text": [
      "   X  Y month  day  FFMC   DMC     DC  ISI  temp  RH  wind  rain  area  \\\n",
      "0  7  5   mar  fri  86.2  26.2   94.3  5.1   8.2  51   6.7   0.0     0   \n",
      "1  7  4   oct  tue  90.6  35.4  669.1  6.7  18.0  33   0.9   0.0     0   \n",
      "2  7  4   oct  sat  90.6  43.7  686.9  6.7  14.6  33   1.3   0.0     0   \n",
      "3  8  6   mar  fri  91.7  33.3   77.5  9.0   8.3  97   4.0   0.2     0   \n",
      "4  8  6   mar  sun  89.3  51.3  102.2  9.6  11.4  99   1.8   0.0     0   \n",
      "\n",
      "        new  \n",
      "0  4.456670  \n",
      "1  4.506454  \n",
      "2  4.506454  \n",
      "3  4.518522  \n",
      "4  4.492001  \n"
     ]
    },
    {
     "ename": "NameError",
     "evalue": "name 'sort' is not defined",
     "output_type": "error",
     "traceback": [
      "\u001b[0;31m---------------------------------------------------------------------------\u001b[0m",
      "\u001b[0;31mNameError\u001b[0m                                 Traceback (most recent call last)",
      "\u001b[0;32m<ipython-input-38-06e7df4deadd>\u001b[0m in \u001b[0;36m<module>\u001b[0;34m()\u001b[0m\n\u001b[1;32m      2\u001b[0m \u001b[0mdf\u001b[0m\u001b[0;34m[\u001b[0m\u001b[0;34m'new'\u001b[0m\u001b[0;34m]\u001b[0m \u001b[0;34m=\u001b[0m \u001b[0;34m(\u001b[0m\u001b[0mnp\u001b[0m\u001b[0;34m.\u001b[0m\u001b[0mlog\u001b[0m\u001b[0;34m(\u001b[0m\u001b[0mdf\u001b[0m\u001b[0;34m.\u001b[0m\u001b[0mFFMC\u001b[0m\u001b[0;34m)\u001b[0m\u001b[0;34m)\u001b[0m\u001b[0;34m\u001b[0m\u001b[0m\n\u001b[1;32m      3\u001b[0m \u001b[0mprint\u001b[0m\u001b[0;34m(\u001b[0m\u001b[0mdf\u001b[0m\u001b[0;34m.\u001b[0m\u001b[0mhead\u001b[0m\u001b[0;34m(\u001b[0m\u001b[0;34m)\u001b[0m\u001b[0;34m)\u001b[0m\u001b[0;34m\u001b[0m\u001b[0m\n\u001b[0;32m----> 4\u001b[0;31m \u001b[0msort\u001b[0m\u001b[0;34m\u001b[0m\u001b[0m\n\u001b[0m\u001b[1;32m      5\u001b[0m \u001b[0mconcat\u001b[0m\u001b[0;34m\u001b[0m\u001b[0m\n\u001b[1;32m      6\u001b[0m \u001b[0mreplace\u001b[0m\u001b[0;34m\u001b[0m\u001b[0m\n",
      "\u001b[0;31mNameError\u001b[0m: name 'sort' is not defined"
     ]
    }
   ],
   "source": [
    "df['datetime'] = (str())\n",
    "# easily add new columns\n",
    "print(df.head())\n",
    "\n",
    "# print df.studio.unique()\n"
   ]
  },
  {
   "cell_type": "code",
   "execution_count": null,
   "metadata": {
    "collapsed": true
   },
   "outputs": [],
   "source": [
    "sort\n",
    "# sort on the values of a column. Ascending or descending.\n"
   ]
  },
  {
   "cell_type": "code",
   "execution_count": null,
   "metadata": {
    "collapsed": true
   },
   "outputs": [],
   "source": [
    "concat\n",
    "# join or concatenate tables\n"
   ]
  },
  {
   "cell_type": "code",
   "execution_count": null,
   "metadata": {
    "collapsed": true
   },
   "outputs": [],
   "source": [
    "replace"
   ]
  },
  {
   "cell_type": "markdown",
   "metadata": {},
   "source": [
    "## Group by"
   ]
  },
  {
   "cell_type": "code",
   "execution_count": null,
   "metadata": {
    "collapsed": true
   },
   "outputs": [],
   "source": [
    "# this is a groupby object. do not be scared. it is your friend.\n",
    "actors = df.groupby('actor')\n",
    "\n",
    "# select the first row in each group\n",
    "# (.head() just so the printed dataframe won't fill up your whole screen. It's not needed)\n",
    "actors.first().head()\n",
    "\n",
    "# select the last row of each group\n",
    "actors.last().head()\n",
    "\n",
    "# take the mean of all rows for each group.\n",
    "# columns which you can't take the mean of will automatically be dropped.\n",
    "actors.mean().head()\n",
    "\n",
    "# Get a group by name:\n",
    "actors.get_group('Gary Oldman').head()\n",
    "\n",
    "# calling size() on a groupby object will return the number of rows each group contains.\n",
    "# here, how many roles each actor has\n",
    "actors.size().head(10)\n",
    "\n",
    "# agg() can take a list of functions. \n",
    "# It makes a new column and applies them to each group in a groupby\n",
    "actors['domestic_gross','worldwide_gross'].agg(['mean','count','std','min','max']).head(10)"
   ]
  },
  {
   "cell_type": "markdown",
   "metadata": {},
   "source": [
    "### Matplotlib and Seaborn"
   ]
  },
  {
   "cell_type": "code",
   "execution_count": 39,
   "metadata": {
    "collapsed": false
   },
   "outputs": [],
   "source": [
    "import seaborn"
   ]
  },
  {
   "cell_type": "code",
   "execution_count": 54,
   "metadata": {
    "collapsed": false
   },
   "outputs": [
    {
     "data": {
      "text/plain": [
       "[<matplotlib.lines.Line2D at 0x1193b4978>]"
      ]
     },
     "execution_count": 54,
     "metadata": {},
     "output_type": "execute_result"
    },
    {
     "data": {
      "image/png": "[encoded data removed]",
      "text/plain": [
       "<matplotlib.figure.Figure at 0x115d239e8>"
      ]
     },
     "metadata": {},
     "output_type": "display_data"
    }
   ],
   "source": [
    "%matplotlib inline\n",
    "# jupyter will show you your plots inline\n",
    "\n",
    "plt.plot(df.rain)"
   ]
  },
  {
   "cell_type": "markdown",
   "metadata": {},
   "source": [
    "## Looking at distributions"
   ]
  },
  {
   "cell_type": "code",
   "execution_count": 59,
   "metadata": {
    "collapsed": false
   },
   "outputs": [
    {
     "data": {
      "text/plain": [
       "(array([  67.,   21.,    6.,   10.,   25.,   22.,   40.,  136.,  151.,   39.]),\n",
       " array([   7.9 ,   93.17,  178.44,  263.71,  348.98,  434.25,  519.52,\n",
       "         604.79,  690.06,  775.33,  860.6 ]),\n",
       " <a list of 10 Patch objects>)"
      ]
     },
     "execution_count": 59,
     "metadata": {},
     "output_type": "execute_result"
    },
    {
     "data": {
      "image/png": "[encoded data removed]",
      "text/plain": [
       "<matplotlib.figure.Figure at 0x118d04128>"
      ]
     },
     "metadata": {},
     "output_type": "display_data"
    }
   ],
   "source": [
    "\n",
    "plt.hist(df.DC)"
   ]
  },
  {
   "cell_type": "code",
   "execution_count": 58,
   "metadata": {
    "collapsed": false
   },
   "outputs": [
    {
     "data": {
      "text/plain": [
       "Index(['X', 'Y', 'month', 'day', 'FFMC', 'DMC', 'DC', 'ISI', 'temp', 'RH',\n",
       "       'wind', 'rain', 'area', 'new'],\n",
       "      dtype='object')"
      ]
     },
     "execution_count": 58,
     "metadata": {},
     "output_type": "execute_result"
    }
   ],
   "source": [
    "df.columns"
   ]
  },
  {
   "cell_type": "code",
   "execution_count": null,
   "metadata": {
    "collapsed": true
   },
   "outputs": [],
   "source": []
  }
 ],
 "metadata": {
  "kernelspec": {
   "display_name": "Python 3",
   "language": "python",
   "name": "python3"
  },
  "language_info": {
   "codemirror_mode": {
    "name": "ipython",
    "version": 3
   },
   "file_extension": ".py",
   "mimetype": "text/x-python",
   "name": "python",
   "nbconvert_exporter": "python",
   "pygments_lexer": "ipython3",
   "version": "3.5.1"
  }
 },
 "nbformat": 4,
 "nbformat_minor": 0
}
