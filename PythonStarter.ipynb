{
 "cells": [
  {
   "cell_type": "markdown",
   "metadata": {},
   "source": [
    "# Knowledge is POWER: session 1\n",
    "## Python for Data Science\n",
    "\n",
    "### 2.7 or 3.5?\n",
    "2.7 is without doubt the most common and well established version of Python, and you will encounter problems with some older packages if you use 3.5. _However_, there is a trend in upgrades to write in Python 3.5 so I started with that one. Occasionally I use 2.7 by switching environments but my default is 3.5.\n",
    "\n",
    "### Package management\n",
    "Python packages are a nightmare. Version control, making sure they are in the right path, and import and compatibility bugs are very common with Python. So be ready! One thing that helps is using a central package manager so you can easily switch environments for different libraries and versions. The common choice is __Anaconda__:\n",
    "\n",
    "https://docs.continuum.io/anaconda/install\n",
    "\n",
    "You have to specify which Python version you want, but remember you can have an alternative version environment, so just pick your default and install away.\n",
    "\n",
    "### Anaconda cheat sheet\n",
    "\n",
    "creates a new environment:\n",
    "\n",
    "`conda create -n snakes python=3.4`\n",
    "\n",
    "activates that environment:\n",
    "\n",
    "`source activate snakes`\n"
   ]
  },
  {
   "cell_type": "markdown",
   "metadata": {},
   "source": [
    "### pip\n",
    "Once you have anaconda installed, you can use __pip__ (in most cases) to install any packages you might want to use. For data analysis, the most important packages are __pandas__, __numpy__ and __matplotlib__.\n",
    "If you want to make your plots prettier, you can install __seaborn__ and if you want to do other things like image analysis, __openCV__ or web scraping, __beautiful soup__.\n",
    "\n",
    "From command line:\n",
    "`pip install pandas`\n",
    "\n",
    "Once you have pip installed your packages, as the anaconda package manager sits in your path, you can import them anywhere. "
   ]
  },
  {
   "cell_type": "code",
   "execution_count": null,
   "metadata": {
    "collapsed": true
   },
   "outputs": [],
   "source": [
    "import pandas\n",
    "import numpy\n",
    "import matplotlib.pyplot as plt"
   ]
  },
  {
   "cell_type": "markdown",
   "metadata": {},
   "source": [
    "\n",
    "# Variables\n",
    "## Lists\n",
    "A list of values, each one is indexed, starting at `0`. You can remove and add values, change the order of those values, etc."
   ]
  },
  {
   "cell_type": "code",
   "execution_count": null,
   "metadata": {
    "collapsed": false
   },
   "outputs": [],
   "source": [
    "aList = []\n",
    "print(aList)\n",
    "print(type(aList))"
   ]
  },
  {
   "cell_type": "code",
   "execution_count": null,
   "metadata": {
    "collapsed": false
   },
   "outputs": [],
   "source": [
    "aList.append('apple') # adds a string value to your list\n",
    "print(aList)"
   ]
  },
  {
   "cell_type": "code",
   "execution_count": null,
   "metadata": {
    "collapsed": false
   },
   "outputs": [],
   "source": [
    "aList.extend(['orange', 'watermelon', 'kiwi', 'fig']) #if you use append with a list instead of a string, you get a list within a list\n",
    "print(aList)"
   ]
  },
  {
   "cell_type": "code",
   "execution_count": null,
   "metadata": {
    "collapsed": false
   },
   "outputs": [],
   "source": [
    "print(sorted(aList)) # sorts alphabetically once\n",
    "print(aList) # not permanent"
   ]
  },
  {
   "cell_type": "code",
   "execution_count": null,
   "metadata": {
    "collapsed": false,
    "scrolled": true
   },
   "outputs": [],
   "source": [
    "# some simple operations\n",
    "print(aList[2]) # grab value by index\n",
    "print(aList[2:4]) # subset a list\n",
    "print(max(aList)) # max grabs highest integer or furthest letter in alphabet (lowercase before uppercase)\n",
    "print(min(aList)) # vice versa\n",
    "print(len(aList)) # number of values in list"
   ]
  },
  {
   "cell_type": "markdown",
   "metadata": {},
   "source": [
    "## List comprehensions\n",
    "Little forloops inside lists. Lovely things."
   ]
  },
  {
   "cell_type": "code",
   "execution_count": null,
   "metadata": {
    "collapsed": false
   },
   "outputs": [],
   "source": [
    "bList = [x**2 for x in range(10)] \n",
    "print(bList)"
   ]
  },
  {
   "cell_type": "markdown",
   "metadata": {},
   "source": [
    "## Tuples\n",
    "Similar to lists but the values are immutable. You cannot change them. Useful for temporarily storing pairs of information or sequences like days of the week."
   ]
  },
  {
   "cell_type": "code",
   "execution_count": null,
   "metadata": {
    "collapsed": false
   },
   "outputs": [],
   "source": [
    "aTup = ('Monday','Tuesday','Wednesday')\n",
    "print(aTup)\n",
    "print(type(aTup))\n",
    "print(len(aTup))"
   ]
  },
  {
   "cell_type": "markdown",
   "metadata": {},
   "source": [
    "## Dictionaries\n",
    "Contains key-value pairs. Can have dictionaries within dictionaries. It is not indexed, i.e. you can't call the 5th key in the dictionary. You can add, remove and modify values in a dictionary. (it's basically json) "
   ]
  },
  {
   "cell_type": "code",
   "execution_count": 120,
   "metadata": {
    "collapsed": true
   },
   "outputs": [],
   "source": [
    "# creating a dictionary\n",
    "aDict = {}\n",
    "\n",
    "#  filling a dictionary.\n",
    "# this saves the fruit values to the key 'fruit'.\n",
    "aDict['fruit'] = ['apple', 'banana', 'kiwi']\n",
    "\n",
    "aDict['veg'] = ['cucumber', 'aubergine', 'lettuce']"
   ]
  },
  {
   "cell_type": "code",
   "execution_count": 121,
   "metadata": {
    "collapsed": false
   },
   "outputs": [
    {
     "data": {
      "text/plain": [
       "dict_values([['apple', 'banana', 'kiwi'], ['cucumber', 'aubergine', 'lettuce']])"
      ]
     },
     "execution_count": 121,
     "metadata": {},
     "output_type": "execute_result"
    }
   ],
   "source": [
    "aDict.values()"
   ]
  },
  {
   "cell_type": "code",
   "execution_count": 122,
   "metadata": {
    "collapsed": false
   },
   "outputs": [
    {
     "data": {
      "text/plain": [
       "dict_keys(['fruit', 'veg'])"
      ]
     },
     "execution_count": 122,
     "metadata": {},
     "output_type": "execute_result"
    }
   ],
   "source": [
    "aDict.keys()"
   ]
  },
  {
   "cell_type": "code",
   "execution_count": 123,
   "metadata": {
    "collapsed": false
   },
   "outputs": [
    {
     "data": {
      "text/plain": [
       "dict_items([('fruit', ['apple', 'banana', 'kiwi']), ('veg', ['cucumber', 'aubergine', 'lettuce'])])"
      ]
     },
     "execution_count": 123,
     "metadata": {},
     "output_type": "execute_result"
    }
   ],
   "source": [
    "aDict.items()"
   ]
  },
  {
   "cell_type": "code",
   "execution_count": 127,
   "metadata": {
    "collapsed": false
   },
   "outputs": [
    {
     "name": "stdout",
     "output_type": "stream",
     "text": [
      "key: fruit\n",
      "\n",
      "value: ['apple', 'banana', 'kiwi']\n",
      "\n",
      "key: veg\n",
      "\n",
      "value: ['cucumber', 'aubergine', 'lettuce']\n",
      "\n"
     ]
    }
   ],
   "source": [
    "for key, value in aDict.items():\n",
    "    print('key: '+key+'\\n')\n",
    "    print('value: '+str(value)+'\\n')\n",
    "# as the value is a list, you have to convert to string here.\n"
   ]
  },
  {
   "cell_type": "code",
   "execution_count": 129,
   "metadata": {
    "collapsed": false,
    "scrolled": true
   },
   "outputs": [
    {
     "name": "stdout",
     "output_type": "stream",
     "text": [
      "['apple', 'banana', 'kiwi', 'orange', 'orange']\n",
      "['apple', 'banana', 'kiwi', 'orange', 'orange', 'watermelon', 'grape']\n"
     ]
    }
   ],
   "source": [
    "# adding a value value to a key\n",
    "aDict['fruit'].append('orange')\n",
    "\n",
    "print(aDict['fruit'])"
   ]
  },
  {
   "cell_type": "code",
   "execution_count": null,
   "metadata": {
    "collapsed": true
   },
   "outputs": [],
   "source": [
    "# in the case of the value being a list, use 'extend' if you want to add to the existing value list, \n",
    "# and 'append' if you want to keep it a separate list.\n",
    "\n",
    "aDict['fruit'].extend(['watermelon', 'grape'])\n",
    "\n",
    "print(aDict['fruit'])"
   ]
  },
  {
   "cell_type": "markdown",
   "metadata": {},
   "source": [
    "## Membership and Identity operators\n",
    "\n",
    "membership operators test for membership in a sequence, such as strings, lists, tuples or dictionaries.\n",
    "\n",
    "`in, not in`\n",
    "\n",
    "a variable can have multiple names pointing to it. Is/Is not evaluates whether the variables on each side of the operator point to the same object. Without if statement, will return `True` or `False`.\n",
    "\n",
    "`is, is not`"
   ]
  },
  {
   "cell_type": "code",
   "execution_count": null,
   "metadata": {
    "collapsed": false
   },
   "outputs": [],
   "source": [
    "if 'green' is 'red':\n",
    "    print (\"you're colourblind!\")\n",
    "else:\n",
    "    print (\"you're not colourblind!\")"
   ]
  },
  {
   "cell_type": "code",
   "execution_count": null,
   "metadata": {
    "collapsed": false
   },
   "outputs": [],
   "source": [
    "if 'apple' in aList:\n",
    "    print(\"apple's in the bag\")\n",
    "else:\n",
    "    print(\"you've forgotten the apples!\")"
   ]
  },
  {
   "cell_type": "markdown",
   "metadata": {},
   "source": [
    "# Pandas\n",
    "Pandas is the best. It allows you to utilise all the great analysis functionality from R, and works using DataFrames. This means, it organises data in 2 dimensional matrices and you can filter, concatenate, split and join, replace functions, etc. "
   ]
  },
  {
   "cell_type": "markdown",
   "metadata": {},
   "source": [
    "## Read and write to .csv"
   ]
  },
  {
   "cell_type": "code",
   "execution_count": null,
   "metadata": {
    "collapsed": false
   },
   "outputs": [],
   "source": [
    "# instantiate a dataframe object\n",
    "df = pd.DataFrame()\n",
    "\n",
    "# read in some data\n",
    "df = pd.read_csv('forestfires.csv')\n",
    "\n",
    "# save a dataframe as a csv\n",
    "df.to_csv('forestfires.csv')"
   ]
  },
  {
   "cell_type": "markdown",
   "metadata": {},
   "source": [
    "## Selecting, Indexing and Setting"
   ]
  },
  {
   "cell_type": "code",
   "execution_count": null,
   "metadata": {
    "collapsed": false,
    "scrolled": true
   },
   "outputs": [],
   "source": [
    "print('shape: {}'.format(df.shape))\n",
    "# will give you the dimensions of the dataframe in format (no. of rows, no. of columns)\n",
    "print('='*60)\n",
    "print(df.columns+'\\n')\n",
    "# gives you column names\n",
    "print('='*60)\n",
    "print(df.head())\n",
    "#  gives you the first 5 rows, or more if specified. i.e. df.head(10) will give you the first 10.\n",
    "\n"
   ]
  },
  {
   "cell_type": "code",
   "execution_count": null,
   "metadata": {
    "collapsed": false
   },
   "outputs": [],
   "source": [
    "print('by column name: \\n')\n",
    "print(df['month'][:5])\n",
    "print('\\nor.... \\n')\n",
    "print(df.month[:5])\n",
    "# will show you the values in the column called 'month'\n",
    "print('\\n\\nby index: \\n')\n",
    "print(df.iloc[:5,:3])\n",
    "# by numeric index. rows 0-5, columns 0-3."
   ]
  },
  {
   "cell_type": "code",
   "execution_count": null,
   "metadata": {
    "collapsed": false,
    "scrolled": true
   },
   "outputs": [],
   "source": [
    "print('by row value: \\n')\n",
    "df[df['month']=='oct'][:5]\n",
    "# show me all rows where the month is October."
   ]
  },
  {
   "cell_type": "markdown",
   "metadata": {},
   "source": [
    "## Adding, replacing, deleting, concatenating...."
   ]
  },
  {
   "cell_type": "code",
   "execution_count": null,
   "metadata": {
    "collapsed": false
   },
   "outputs": [],
   "source": [
    "df['new'] = (0)\n",
    "# easily add new columns\n",
    "print(df.head())\n",
    "print('\\n\\n')\n",
    "print(df.month.unique())\n"
   ]
  },
  {
   "cell_type": "code",
   "execution_count": null,
   "metadata": {
    "collapsed": false
   },
   "outputs": [],
   "source": [
    "sorted_results = df.sort(['temp'])\n",
    "# sort on the values of a column. Ascending or descending.\n",
    "sorted_results.head()"
   ]
  },
  {
   "cell_type": "code",
   "execution_count": null,
   "metadata": {
    "collapsed": true
   },
   "outputs": [],
   "source": [
    "pd.concat(axis=)\n",
    "# join or concatenate tables\n"
   ]
  },
  {
   "cell_type": "markdown",
   "metadata": {},
   "source": [
    "## Group by"
   ]
  },
  {
   "cell_type": "code",
   "execution_count": null,
   "metadata": {
    "collapsed": false
   },
   "outputs": [],
   "source": [
    "# this is a groupby object. do not be scared. it is your friend.\n",
    "months = df.groupby('month')"
   ]
  },
  {
   "cell_type": "code",
   "execution_count": null,
   "metadata": {
    "collapsed": false
   },
   "outputs": [],
   "source": [
    "# select the first row in each group\n",
    "# (.head() just so the printed dataframe won't fill up your whole screen. It's not needed)\n",
    "months.first().head()"
   ]
  },
  {
   "cell_type": "code",
   "execution_count": null,
   "metadata": {
    "collapsed": false
   },
   "outputs": [],
   "source": [
    "# select the last row of each group\n",
    "months.last().head()"
   ]
  },
  {
   "cell_type": "code",
   "execution_count": null,
   "metadata": {
    "collapsed": false
   },
   "outputs": [],
   "source": [
    "# take the mean of all rows for each group.\n",
    "# columns which you can't take the mean of will automatically be dropped.\n",
    "months.mean().head()"
   ]
  },
  {
   "cell_type": "code",
   "execution_count": null,
   "metadata": {
    "collapsed": false
   },
   "outputs": [],
   "source": [
    "# Get a group by name:\n",
    "months.get_group('jan').head()"
   ]
  },
  {
   "cell_type": "code",
   "execution_count": null,
   "metadata": {
    "collapsed": false
   },
   "outputs": [],
   "source": [
    "# calling size() on a groupby object will return the number of rows each group contains.\n",
    "# here, how many roles each actor has\n",
    "months.size().head(10)"
   ]
  },
  {
   "cell_type": "code",
   "execution_count": null,
   "metadata": {
    "collapsed": false
   },
   "outputs": [],
   "source": [
    "# agg() can take a list of functions. \n",
    "# It makes a new column and applies them to each group in a groupby\n",
    "months['rain','temp'].agg(['mean','count','std','min','max'])"
   ]
  },
  {
   "cell_type": "code",
   "execution_count": null,
   "metadata": {
    "collapsed": false
   },
   "outputs": [],
   "source": [
    "months = ['January', 'February', 'March', 'April', 'May', 'June', 'July', 'August', 'September', 'October', 'November', 'December']\n",
    "\n",
    "for i in range(len(months)):\n",
    "    df.replace(sorted(df.month.unique())[i], sorted(months)[i], inplace=True)"
   ]
  },
  {
   "cell_type": "markdown",
   "metadata": {},
   "source": [
    "### Matplotlib and Seaborn"
   ]
  },
  {
   "cell_type": "code",
   "execution_count": null,
   "metadata": {
    "collapsed": false
   },
   "outputs": [],
   "source": [
    "import seaborn as sns\n",
    "# seaborn is a nice analysis, plotting and visualisation library that is integrated with matplotlib, pandas and numpy"
   ]
  },
  {
   "cell_type": "code",
   "execution_count": null,
   "metadata": {
    "collapsed": false
   },
   "outputs": [],
   "source": [
    "%matplotlib inline\n",
    "# jupyter will show you your plots inline\n",
    "plt.figure(figsize=(20,10))\n",
    "plt.plot(df.temp)"
   ]
  },
  {
   "cell_type": "code",
   "execution_count": 133,
   "metadata": {
    "collapsed": false
   },
   "outputs": [
    {
     "data": {
      "text/plain": [
       "<matplotlib.text.Text at 0x11979b198>"
      ]
     },
     "execution_count": 133,
     "metadata": {},
     "output_type": "execute_result"
    },
    {
     "data": {
      "image/png": "[encoded data removed]",
      "text/plain": [
       "<matplotlib.figure.Figure at 0x119d1f630>"
      ]
     },
     "metadata": {},
     "output_type": "display_data"
    }
   ],
   "source": [
    "sns.set_style('white')\n",
    "plt.hist(df.DC)\n",
    "plt.title('DC distribution')"
   ]
  },
  {
   "cell_type": "code",
   "execution_count": null,
   "metadata": {
    "collapsed": true
   },
   "outputs": [],
   "source": []
  }
 ],
 "metadata": {
  "kernelspec": {
   "display_name": "Python 3",
   "language": "python",
   "name": "python3"
  },
  "language_info": {
   "codemirror_mode": {
    "name": "ipython",
    "version": 3
   },
   "file_extension": ".py",
   "mimetype": "text/x-python",
   "name": "python",
   "nbconvert_exporter": "python",
   "pygments_lexer": "ipython3",
   "version": "3.5.1"
  }
 },
 "nbformat": 4,
 "nbformat_minor": 0
}
